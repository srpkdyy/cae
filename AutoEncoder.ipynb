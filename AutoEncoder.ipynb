{
 "cells": [
  {
   "cell_type": "code",
   "execution_count": 1,
   "metadata": {},
   "outputs": [],
   "source": [
    "import os\n",
    "import sys\n",
    "import shutil\n",
    "import numpy as np\n",
    "import pandas as pd\n",
    "import matplotlib.pyplot as plt\n",
    "from PIL import Image\n",
    "from skimage import data\n",
    "from sklearn.cluster import KMeans\n",
    "from sklearn.decomposition import PCA\n",
    "from sklearn.manifold import TSNE\n",
    "from visdom import Visdom\n",
    "\n",
    "import torch\n",
    "import torch.nn as nn\n",
    "import torch.nn.init as init\n",
    "from torch.utils.data import DataLoader\n",
    "from torchvision import transforms, datasets\n",
    "from torchvision.utils import save_image\n",
    "from torchsummary import summary"
   ]
  },
  {
   "cell_type": "code",
   "execution_count": 2,
   "metadata": {},
   "outputs": [
    {
     "name": "stderr",
     "output_type": "stream",
     "text": [
      "Setting up a new session...\n"
     ]
    }
   ],
   "source": [
    "viz = Visdom()"
   ]
  },
  {
   "cell_type": "code",
   "execution_count": 3,
   "metadata": {},
   "outputs": [],
   "source": [
    "def init_params(model):\n",
    "    for m in model.modules():\n",
    "        if isinstance(m, nn.Conv2d):\n",
    "            init.kaiming_normal(m.weight, mode='fan_out', nonlinearity='relu')\n",
    "        elif isinstance(m, nn.BatchNorm2d):\n",
    "            init.constant_(m.weight, 1)\n",
    "            init.constant_(m.bias, 0)\n",
    "        elif isinstance(m, nn.Linear):\n",
    "            init.constant_(m.bias, 0)"
   ]
  },
  {
   "cell_type": "code",
   "execution_count": 4,
   "metadata": {},
   "outputs": [
    {
     "name": "stdout",
     "output_type": "stream",
     "text": [
      "----------------------------------------------------------------\n",
      "        Layer (type)               Output Shape         Param #\n",
      "================================================================\n",
      "            Linear-1              [-1, 1, 1024]     154,141,696\n",
      "              ReLU-2              [-1, 1, 1024]               0\n",
      "            Linear-3               [-1, 1, 256]         262,400\n",
      "              ReLU-4               [-1, 1, 256]               0\n",
      "            Linear-5                [-1, 1, 20]           5,140\n",
      "              ReLU-6                [-1, 1, 20]               0\n",
      "            Linear-7               [-1, 1, 256]           5,376\n",
      "              ReLU-8               [-1, 1, 256]               0\n",
      "            Linear-9              [-1, 1, 1024]         263,168\n",
      "             ReLU-10              [-1, 1, 1024]               0\n",
      "           Linear-11            [-1, 1, 150528]     154,291,200\n",
      "             Tanh-12            [-1, 1, 150528]               0\n",
      "================================================================\n",
      "Total params: 308,968,980\n",
      "Trainable params: 308,968,980\n",
      "Non-trainable params: 0\n",
      "----------------------------------------------------------------\n",
      "Input size (MB): 0.57\n",
      "Forward/backward pass size (MB): 2.34\n",
      "Params size (MB): 1178.62\n",
      "Estimated Total Size (MB): 1181.53\n",
      "----------------------------------------------------------------\n"
     ]
    }
   ],
   "source": [
    "class AutoEncoder(nn.Module):\n",
    "    def __init__(self):\n",
    "        super(AutoEncoder, self).__init__()\n",
    "        self.encoder = nn.Sequential(\n",
    "            nn.Linear(3*224*224, 1024),\n",
    "            nn.ReLU(),\n",
    "            nn.Linear(1024, 256),\n",
    "            nn.ReLU(),\n",
    "            nn.Linear(256, 20),\n",
    "            nn.ReLU(),\n",
    "        )\n",
    "        self.decoder = nn.Sequential(\n",
    "            nn.Linear(20, 256),\n",
    "            nn.ReLU(),\n",
    "            nn.Linear(256, 1024),\n",
    "            nn.ReLU(),\n",
    "            nn.Linear(1024, 3*224*224),\n",
    "            nn.Tanh()\n",
    "        )\n",
    "        \n",
    "        \n",
    "    def forward(self, x):\n",
    "        x = self.encoder(x)\n",
    "        x = self.decoder(x)\n",
    "        return x\n",
    "    \n",
    "ae = AutoEncoder()\n",
    "init_params(ae)\n",
    "ae.cuda()\n",
    "summary(ae, (1, 3*224*224))"
   ]
  },
  {
   "cell_type": "code",
   "execution_count": 5,
   "metadata": {},
   "outputs": [],
   "source": [
    "def to_img(x):\n",
    "    x = 0.5*(x+1)\n",
    "    x = x.clamp(0, 1)\n",
    "    x = x.view(x.size(0), 3, 224, 224)\n",
    "    return x"
   ]
  },
  {
   "cell_type": "code",
   "execution_count": 6,
   "metadata": {},
   "outputs": [],
   "source": [
    "normalize = transforms.Normalize(mean=(0.5, 0.5, 0.5), std=(0.5, 0.5, 0.5))\n",
    "train_ds = datasets.ImageFolder(\n",
    "    'dataset/normals_cut_224_pt/',\n",
    "    transforms.Compose([\n",
    "        #transforms.Resize(224),\n",
    "        transforms.ToTensor(),\n",
    "        normalize,\n",
    "    ])\n",
    ")\n",
    "\n",
    "train_loader = DataLoader(\n",
    "    train_ds,\n",
    "    batch_size=17,\n",
    "    shuffle=True,\n",
    "    num_workers=4,\n",
    "    pin_memory=True\n",
    ")\n",
    "\n",
    "test_ds = datasets.ImageFolder(\n",
    "    'dataset/normals_cut_224_pt/',\n",
    "    transforms.Compose([\n",
    "        #transforms.Resize(224),\n",
    "        transforms.ToTensor(),\n",
    "        normalize,\n",
    "    ])\n",
    ")\n",
    "\n",
    "test_loader = DataLoader(\n",
    "    test_ds,\n",
    "    batch_size=16,\n",
    "    shuffle=False,\n",
    "    num_workers=4,\n",
    "    pin_memory=True\n",
    ")"
   ]
  },
  {
   "cell_type": "code",
   "execution_count": 7,
   "metadata": {},
   "outputs": [],
   "source": [
    "torch.backends.cudnn.benchmark = True"
   ]
  },
  {
   "cell_type": "code",
   "execution_count": 8,
   "metadata": {},
   "outputs": [],
   "source": [
    "criterion = nn.MSELoss()\n",
    "optimizer = torch.optim.Adam(ae.parameters(), lr=1e-3, weight_decay=1e-4)\n",
    "scheduler = torch.optim.lr_scheduler.StepLR(optimizer, 150, gamma=0.1)"
   ]
  },
  {
   "cell_type": "code",
   "execution_count": 9,
   "metadata": {},
   "outputs": [
    {
     "name": "stdout",
     "output_type": "stream",
     "text": [
      "epoch: 0, train_loss: 0.0138964\n",
      "epoch: 1, train_loss: 0.0078510\n",
      "epoch: 2, train_loss: 0.0072890\n",
      "epoch: 3, train_loss: 0.0070209\n",
      "epoch: 4, train_loss: 0.0069785\n",
      "epoch: 5, train_loss: 0.0070379\n",
      "epoch: 6, train_loss: 0.0069790\n",
      "epoch: 7, train_loss: 0.0057169\n",
      "epoch: 8, train_loss: 0.0057459\n",
      "epoch: 9, train_loss: 0.0050052\n",
      "epoch: 10, train_loss: 0.0047870\n",
      "epoch: 11, train_loss: 0.0048315\n",
      "epoch: 12, train_loss: 0.0047050\n",
      "epoch: 13, train_loss: 0.0046699\n",
      "epoch: 14, train_loss: 0.0047948\n",
      "epoch: 15, train_loss: 0.0048977\n",
      "epoch: 16, train_loss: 0.0048115\n",
      "epoch: 17, train_loss: 0.0046243\n",
      "epoch: 18, train_loss: 0.0044494\n",
      "epoch: 19, train_loss: 0.0045506\n",
      "epoch: 20, train_loss: 0.0045612\n",
      "epoch: 21, train_loss: 0.0044742\n",
      "epoch: 22, train_loss: 0.0044859\n",
      "epoch: 23, train_loss: 0.0043529\n",
      "epoch: 24, train_loss: 0.0043694\n",
      "epoch: 25, train_loss: 0.0041818\n",
      "epoch: 26, train_loss: 0.0039718\n",
      "epoch: 27, train_loss: 0.0038069\n",
      "epoch: 28, train_loss: 0.0035782\n",
      "epoch: 29, train_loss: 0.0034144\n",
      "epoch: 30, train_loss: 0.0033822\n",
      "epoch: 31, train_loss: 0.0033020\n",
      "epoch: 32, train_loss: 0.0033772\n",
      "epoch: 33, train_loss: 0.0035296\n",
      "epoch: 34, train_loss: 0.0034707\n",
      "epoch: 35, train_loss: 0.0034090\n",
      "epoch: 36, train_loss: 0.0033814\n",
      "epoch: 37, train_loss: 0.0033963\n",
      "epoch: 38, train_loss: 0.0032441\n",
      "epoch: 39, train_loss: 0.0033923\n",
      "epoch: 40, train_loss: 0.0033346\n",
      "epoch: 41, train_loss: 0.0032995\n",
      "epoch: 42, train_loss: 0.0032808\n",
      "epoch: 43, train_loss: 0.0032464\n",
      "epoch: 44, train_loss: 0.0032206\n",
      "epoch: 45, train_loss: 0.0032241\n",
      "epoch: 46, train_loss: 0.0031917\n",
      "epoch: 47, train_loss: 0.0032204\n",
      "epoch: 48, train_loss: 0.0032621\n",
      "epoch: 49, train_loss: 0.0032616\n",
      "epoch: 50, train_loss: 0.0031823\n",
      "epoch: 51, train_loss: 0.0031429\n",
      "epoch: 52, train_loss: 0.0031425\n",
      "epoch: 53, train_loss: 0.0031248\n",
      "epoch: 54, train_loss: 0.0031189\n",
      "epoch: 55, train_loss: 0.0032793\n",
      "epoch: 56, train_loss: 0.0032467\n",
      "epoch: 57, train_loss: 0.0032246\n",
      "epoch: 58, train_loss: 0.0033016\n",
      "epoch: 59, train_loss: 0.0032294\n",
      "epoch: 60, train_loss: 0.0031147\n",
      "epoch: 61, train_loss: 0.0031399\n",
      "epoch: 62, train_loss: 0.0031102\n",
      "epoch: 63, train_loss: 0.0031763\n",
      "epoch: 64, train_loss: 0.0032138\n",
      "epoch: 65, train_loss: 0.0031994\n",
      "epoch: 66, train_loss: 0.0031425\n",
      "epoch: 67, train_loss: 0.0031207\n",
      "epoch: 68, train_loss: 0.0030806\n",
      "epoch: 69, train_loss: 0.0030622\n",
      "epoch: 70, train_loss: 0.0030985\n",
      "epoch: 71, train_loss: 0.0030766\n",
      "epoch: 72, train_loss: 0.0031097\n",
      "epoch: 73, train_loss: 0.0031211\n",
      "epoch: 74, train_loss: 0.0031397\n",
      "epoch: 75, train_loss: 0.0031205\n",
      "epoch: 76, train_loss: 0.0030629\n",
      "epoch: 77, train_loss: 0.0031004\n",
      "epoch: 78, train_loss: 0.0032560\n",
      "epoch: 79, train_loss: 0.0031540\n",
      "epoch: 80, train_loss: 0.0031302\n",
      "epoch: 81, train_loss: 0.0031403\n",
      "epoch: 82, train_loss: 0.0032455\n",
      "epoch: 83, train_loss: 0.0031486\n",
      "epoch: 84, train_loss: 0.0030664\n",
      "epoch: 85, train_loss: 0.0030542\n",
      "epoch: 86, train_loss: 0.0030788\n",
      "epoch: 87, train_loss: 0.0030205\n",
      "epoch: 88, train_loss: 0.0030348\n",
      "epoch: 89, train_loss: 0.0030630\n",
      "epoch: 90, train_loss: 0.0030420\n",
      "epoch: 91, train_loss: 0.0030558\n",
      "epoch: 92, train_loss: 0.0031187\n",
      "epoch: 93, train_loss: 0.0031155\n",
      "epoch: 94, train_loss: 0.0030715\n",
      "epoch: 95, train_loss: 0.0030059\n",
      "epoch: 96, train_loss: 0.0030138\n",
      "epoch: 97, train_loss: 0.0030420\n",
      "epoch: 98, train_loss: 0.0030915\n",
      "epoch: 99, train_loss: 0.0030672\n",
      "epoch: 100, train_loss: 0.0030183\n",
      "epoch: 101, train_loss: 0.0030581\n",
      "epoch: 102, train_loss: 0.0030440\n",
      "epoch: 103, train_loss: 0.0030216\n",
      "epoch: 104, train_loss: 0.0031037\n",
      "epoch: 105, train_loss: 0.0031063\n",
      "epoch: 106, train_loss: 0.0030959\n",
      "epoch: 107, train_loss: 0.0030233\n",
      "epoch: 108, train_loss: 0.0029917\n",
      "epoch: 109, train_loss: 0.0030388\n",
      "epoch: 110, train_loss: 0.0031883\n",
      "epoch: 111, train_loss: 0.0031152\n",
      "epoch: 112, train_loss: 0.0030512\n",
      "epoch: 113, train_loss: 0.0030284\n",
      "epoch: 114, train_loss: 0.0030565\n",
      "epoch: 115, train_loss: 0.0029906\n",
      "epoch: 116, train_loss: 0.0030532\n",
      "epoch: 117, train_loss: 0.0029882\n",
      "epoch: 118, train_loss: 0.0029484\n",
      "epoch: 119, train_loss: 0.0030318\n",
      "epoch: 120, train_loss: 0.0031062\n",
      "epoch: 121, train_loss: 0.0030130\n",
      "epoch: 122, train_loss: 0.0029912\n",
      "epoch: 123, train_loss: 0.0029528\n",
      "epoch: 124, train_loss: 0.0029191\n",
      "epoch: 125, train_loss: 0.0029731\n",
      "epoch: 126, train_loss: 0.0030461\n",
      "epoch: 127, train_loss: 0.0029984\n",
      "epoch: 128, train_loss: 0.0030231\n",
      "epoch: 129, train_loss: 0.0029676\n",
      "epoch: 130, train_loss: 0.0030137\n",
      "epoch: 131, train_loss: 0.0030140\n",
      "epoch: 132, train_loss: 0.0030020\n",
      "epoch: 133, train_loss: 0.0030176\n",
      "epoch: 134, train_loss: 0.0030330\n",
      "epoch: 135, train_loss: 0.0029431\n",
      "epoch: 136, train_loss: 0.0029722\n",
      "epoch: 137, train_loss: 0.0030662\n",
      "epoch: 138, train_loss: 0.0031424\n",
      "epoch: 139, train_loss: 0.0030540\n",
      "epoch: 140, train_loss: 0.0029857\n",
      "epoch: 141, train_loss: 0.0029926\n",
      "epoch: 142, train_loss: 0.0030431\n",
      "epoch: 143, train_loss: 0.0029523\n",
      "epoch: 144, train_loss: 0.0031198\n",
      "epoch: 145, train_loss: 0.0031272\n",
      "epoch: 146, train_loss: 0.0030253\n",
      "epoch: 147, train_loss: 0.0029999\n",
      "epoch: 148, train_loss: 0.0030045\n",
      "epoch: 149, train_loss: 0.0030040\n",
      "epoch: 150, train_loss: 0.0028025\n",
      "epoch: 151, train_loss: 0.0027209\n",
      "epoch: 152, train_loss: 0.0026927\n",
      "epoch: 153, train_loss: 0.0026772\n",
      "epoch: 154, train_loss: 0.0026738\n",
      "epoch: 155, train_loss: 0.0026658\n",
      "epoch: 156, train_loss: 0.0026614\n",
      "epoch: 157, train_loss: 0.0026590\n",
      "epoch: 158, train_loss: 0.0026550\n",
      "epoch: 159, train_loss: 0.0026508\n",
      "epoch: 160, train_loss: 0.0026513\n",
      "epoch: 161, train_loss: 0.0026505\n",
      "epoch: 162, train_loss: 0.0026474\n",
      "epoch: 163, train_loss: 0.0026467\n",
      "epoch: 164, train_loss: 0.0026403\n",
      "epoch: 165, train_loss: 0.0026411\n",
      "epoch: 166, train_loss: 0.0026418\n",
      "epoch: 167, train_loss: 0.0026405\n",
      "epoch: 168, train_loss: 0.0026326\n",
      "epoch: 169, train_loss: 0.0026315\n",
      "epoch: 170, train_loss: 0.0026339\n",
      "epoch: 171, train_loss: 0.0026329\n",
      "epoch: 172, train_loss: 0.0026268\n",
      "epoch: 173, train_loss: 0.0026307\n",
      "epoch: 174, train_loss: 0.0026288\n",
      "epoch: 175, train_loss: 0.0026248\n",
      "epoch: 176, train_loss: 0.0026258\n",
      "epoch: 177, train_loss: 0.0026196\n",
      "epoch: 178, train_loss: 0.0026197\n",
      "epoch: 179, train_loss: 0.0026185\n",
      "epoch: 180, train_loss: 0.0026245\n",
      "epoch: 181, train_loss: 0.0026207\n",
      "epoch: 182, train_loss: 0.0026171\n",
      "epoch: 183, train_loss: 0.0026138\n",
      "epoch: 184, train_loss: 0.0026140\n",
      "epoch: 185, train_loss: 0.0026131\n",
      "epoch: 186, train_loss: 0.0026160\n",
      "epoch: 187, train_loss: 0.0026151\n",
      "epoch: 188, train_loss: 0.0026144\n",
      "epoch: 189, train_loss: 0.0026055\n",
      "epoch: 190, train_loss: 0.0026060\n",
      "epoch: 191, train_loss: 0.0026108\n",
      "epoch: 192, train_loss: 0.0026116\n",
      "epoch: 193, train_loss: 0.0026111\n",
      "epoch: 194, train_loss: 0.0026035\n",
      "epoch: 195, train_loss: 0.0026062\n",
      "epoch: 196, train_loss: 0.0025988\n",
      "epoch: 197, train_loss: 0.0026014\n",
      "epoch: 198, train_loss: 0.0026095\n",
      "epoch: 199, train_loss: 0.0026004\n"
     ]
    }
   ],
   "source": [
    "train_loss_list = list()\n",
    "for epoch in range(200):\n",
    "    train_loss = 0\n",
    "    \n",
    "    ae.train()\n",
    "    for i, (imgs, _) in enumerate(train_loader):\n",
    "        imgs = imgs.view(imgs.size(0), -1).cuda()\n",
    "        \n",
    "        outputs = ae(imgs)\n",
    "        loss = criterion(outputs, imgs)\n",
    "        \n",
    "        optimizer.zero_grad()\n",
    "        loss.backward()\n",
    "        optimizer.step()\n",
    "        \n",
    "        train_loss += loss.item()\n",
    "    \n",
    "    avg_train_loss = train_loss / len(train_loader.dataset)\n",
    "    \n",
    "    # visualize\n",
    "    viz.line(X=np.array([epoch]), Y=np.array([avg_train_loss]), win='loss', name='train_loss', update='append')\n",
    "    \n",
    "    print('epoch: {}, train_loss: {:.7f}'\n",
    "          .format(epoch, avg_train_loss))\n",
    "    \n",
    "    if (epoch+1) % 20 == 0:\n",
    "        pic = to_img(outputs.cpu().data[0].reshape(1, -1))\n",
    "        save_image(pic, f'./result/autoencoder{epoch+1}.png')\n",
    "    \n",
    "    scheduler.step()    \n",
    "    "
   ]
  },
  {
   "cell_type": "code",
   "execution_count": 10,
   "metadata": {},
   "outputs": [
    {
     "data": {
      "text/plain": [
       "(153, 20)"
      ]
     },
     "execution_count": 10,
     "metadata": {},
     "output_type": "execute_result"
    }
   ],
   "source": [
    "ae.eval()\n",
    "z = list()\n",
    "z_label = list()\n",
    "for i, (imgs, labels) in enumerate(test_loader):\n",
    "        imgs = imgs.view(imgs.size(0), -1).cuda()\n",
    "        features = ae.encoder(imgs).data.cpu().numpy()\n",
    "        \n",
    "        z.extend(features)\n",
    "        z_label.extend(labels.numpy())\n",
    "        \n",
    "z = np.array(z, dtype=torch.dtype)\n",
    "z_label = np.array(z_label, dtype=torch.dtype)\n",
    "z.shape"
   ]
  },
  {
   "cell_type": "code",
   "execution_count": 11,
   "metadata": {},
   "outputs": [
    {
     "data": {
      "text/plain": [
       "array([[0.0, 0.0, 0.0, ..., 0.0, 0.0, 0.0],\n",
       "       [0.0, 0.0, 0.0, ..., 0.0, 0.0, 0.0],\n",
       "       [0.0, 0.0, 0.0, ..., 0.0, 0.0, 0.0],\n",
       "       ...,\n",
       "       [0.0, 0.0, 0.0, ..., 0.0, 0.0, 0.0],\n",
       "       [0.0, 0.0, 0.0, ..., 0.0, 0.0, 0.0],\n",
       "       [0.0, 0.0, 0.0, ..., 0.0, 0.0, 0.0]], dtype=object)"
      ]
     },
     "execution_count": 11,
     "metadata": {},
     "output_type": "execute_result"
    }
   ],
   "source": [
    "z"
   ]
  },
  {
   "cell_type": "code",
   "execution_count": 12,
   "metadata": {},
   "outputs": [
    {
     "data": {
      "text/html": [
       "<div>\n",
       "<style scoped>\n",
       "    .dataframe tbody tr th:only-of-type {\n",
       "        vertical-align: middle;\n",
       "    }\n",
       "\n",
       "    .dataframe tbody tr th {\n",
       "        vertical-align: top;\n",
       "    }\n",
       "\n",
       "    .dataframe thead th {\n",
       "        text-align: right;\n",
       "    }\n",
       "</style>\n",
       "<table border=\"1\" class=\"dataframe\">\n",
       "  <thead>\n",
       "    <tr style=\"text-align: right;\">\n",
       "      <th></th>\n",
       "      <th>label</th>\n",
       "    </tr>\n",
       "  </thead>\n",
       "  <tbody>\n",
       "    <tr>\n",
       "      <th>0</th>\n",
       "      <td>0</td>\n",
       "    </tr>\n",
       "    <tr>\n",
       "      <th>1</th>\n",
       "      <td>0</td>\n",
       "    </tr>\n",
       "    <tr>\n",
       "      <th>2</th>\n",
       "      <td>0</td>\n",
       "    </tr>\n",
       "    <tr>\n",
       "      <th>3</th>\n",
       "      <td>0</td>\n",
       "    </tr>\n",
       "    <tr>\n",
       "      <th>4</th>\n",
       "      <td>0</td>\n",
       "    </tr>\n",
       "    <tr>\n",
       "      <th>...</th>\n",
       "      <td>...</td>\n",
       "    </tr>\n",
       "    <tr>\n",
       "      <th>148</th>\n",
       "      <td>1</td>\n",
       "    </tr>\n",
       "    <tr>\n",
       "      <th>149</th>\n",
       "      <td>1</td>\n",
       "    </tr>\n",
       "    <tr>\n",
       "      <th>150</th>\n",
       "      <td>1</td>\n",
       "    </tr>\n",
       "    <tr>\n",
       "      <th>151</th>\n",
       "      <td>1</td>\n",
       "    </tr>\n",
       "    <tr>\n",
       "      <th>152</th>\n",
       "      <td>1</td>\n",
       "    </tr>\n",
       "  </tbody>\n",
       "</table>\n",
       "<p>153 rows × 1 columns</p>\n",
       "</div>"
      ],
      "text/plain": [
       "    label\n",
       "0       0\n",
       "1       0\n",
       "2       0\n",
       "3       0\n",
       "4       0\n",
       "..    ...\n",
       "148     1\n",
       "149     1\n",
       "150     1\n",
       "151     1\n",
       "152     1\n",
       "\n",
       "[153 rows x 1 columns]"
      ]
     },
     "execution_count": 12,
     "metadata": {},
     "output_type": "execute_result"
    }
   ],
   "source": [
    "feature_ae = pd.DataFrame({'label': z_label})\n",
    "feature_ae"
   ]
  },
  {
   "cell_type": "code",
   "execution_count": 13,
   "metadata": {},
   "outputs": [
    {
     "data": {
      "text/html": [
       "<div>\n",
       "<style scoped>\n",
       "    .dataframe tbody tr th:only-of-type {\n",
       "        vertical-align: middle;\n",
       "    }\n",
       "\n",
       "    .dataframe tbody tr th {\n",
       "        vertical-align: top;\n",
       "    }\n",
       "\n",
       "    .dataframe thead th {\n",
       "        text-align: right;\n",
       "    }\n",
       "</style>\n",
       "<table border=\"1\" class=\"dataframe\">\n",
       "  <thead>\n",
       "    <tr style=\"text-align: right;\">\n",
       "      <th></th>\n",
       "      <th>label</th>\n",
       "      <th>type</th>\n",
       "      <th>color</th>\n",
       "    </tr>\n",
       "  </thead>\n",
       "  <tbody>\n",
       "    <tr>\n",
       "      <th>0</th>\n",
       "      <td>0</td>\n",
       "      <td>a</td>\n",
       "      <td>#FF0000</td>\n",
       "    </tr>\n",
       "    <tr>\n",
       "      <th>1</th>\n",
       "      <td>0</td>\n",
       "      <td>a</td>\n",
       "      <td>#FF0000</td>\n",
       "    </tr>\n",
       "    <tr>\n",
       "      <th>2</th>\n",
       "      <td>0</td>\n",
       "      <td>a</td>\n",
       "      <td>#FF0000</td>\n",
       "    </tr>\n",
       "    <tr>\n",
       "      <th>3</th>\n",
       "      <td>0</td>\n",
       "      <td>a</td>\n",
       "      <td>#FF0000</td>\n",
       "    </tr>\n",
       "    <tr>\n",
       "      <th>4</th>\n",
       "      <td>0</td>\n",
       "      <td>a</td>\n",
       "      <td>#FF0000</td>\n",
       "    </tr>\n",
       "    <tr>\n",
       "      <th>...</th>\n",
       "      <td>...</td>\n",
       "      <td>...</td>\n",
       "      <td>...</td>\n",
       "    </tr>\n",
       "    <tr>\n",
       "      <th>148</th>\n",
       "      <td>1</td>\n",
       "      <td>h</td>\n",
       "      <td>#0000FF</td>\n",
       "    </tr>\n",
       "    <tr>\n",
       "      <th>149</th>\n",
       "      <td>1</td>\n",
       "      <td>h</td>\n",
       "      <td>#0000FF</td>\n",
       "    </tr>\n",
       "    <tr>\n",
       "      <th>150</th>\n",
       "      <td>1</td>\n",
       "      <td>h</td>\n",
       "      <td>#0000FF</td>\n",
       "    </tr>\n",
       "    <tr>\n",
       "      <th>151</th>\n",
       "      <td>1</td>\n",
       "      <td>h</td>\n",
       "      <td>#0000FF</td>\n",
       "    </tr>\n",
       "    <tr>\n",
       "      <th>152</th>\n",
       "      <td>1</td>\n",
       "      <td>h</td>\n",
       "      <td>#0000FF</td>\n",
       "    </tr>\n",
       "  </tbody>\n",
       "</table>\n",
       "<p>153 rows × 3 columns</p>\n",
       "</div>"
      ],
      "text/plain": [
       "    label type    color\n",
       "0       0    a  #FF0000\n",
       "1       0    a  #FF0000\n",
       "2       0    a  #FF0000\n",
       "3       0    a  #FF0000\n",
       "4       0    a  #FF0000\n",
       "..    ...  ...      ...\n",
       "148     1    h  #0000FF\n",
       "149     1    h  #0000FF\n",
       "150     1    h  #0000FF\n",
       "151     1    h  #0000FF\n",
       "152     1    h  #0000FF\n",
       "\n",
       "[153 rows x 3 columns]"
      ]
     },
     "execution_count": 13,
     "metadata": {},
     "output_type": "execute_result"
    }
   ],
   "source": [
    "feature_ae['type'] = feature_ae['label'].apply(lambda x: 'a' if x == 0 else 'h')\n",
    "color_code = {'a': '#FF0000', 'h': '#0000FF'}\n",
    "feature_ae['color'] = feature_ae['type'].apply(lambda x: color_code[x])\n",
    "feature_ae"
   ]
  },
  {
   "cell_type": "code",
   "execution_count": 14,
   "metadata": {},
   "outputs": [
    {
     "data": {
      "text/plain": [
       "(153, 2)"
      ]
     },
     "execution_count": 14,
     "metadata": {},
     "output_type": "execute_result"
    }
   ],
   "source": [
    "tsne_z = TSNE(n_components=2).fit_transform(z)\n",
    "tsne_z.shape"
   ]
  },
  {
   "cell_type": "code",
   "execution_count": 15,
   "metadata": {},
   "outputs": [
    {
     "data": {
      "image/png": "[encoded data removed]",
      "text/plain": [
       "<Figure size 720x720 with 1 Axes>"
      ]
     },
     "metadata": {
      "needs_background": "light"
     },
     "output_type": "display_data"
    }
   ],
   "source": [
    "plt.figure(figsize=(10, 10))\n",
    "plt.scatter(tsne_z[:, 0], tsne_z[:, 1], color=feature_ae['color'])\n",
    "plt.title('t-SNE')\n",
    "plt.xlabel('The first score')\n",
    "plt.ylabel('The second score')\n",
    "plt.savefig('result/tsne/ae.jpg')"
   ]
  },
  {
   "cell_type": "code",
   "execution_count": 16,
   "metadata": {},
   "outputs": [
    {
     "data": {
      "text/plain": [
       "(153, 2)"
      ]
     },
     "execution_count": 16,
     "metadata": {},
     "output_type": "execute_result"
    }
   ],
   "source": [
    "pca_z = PCA(n_components=2).fit_transform(z)\n",
    "pca_z.shape"
   ]
  },
  {
   "cell_type": "code",
   "execution_count": 17,
   "metadata": {},
   "outputs": [
    {
     "data": {
      "text/plain": [
       "Text(0, 0.5, 'The second principal component score')"
      ]
     },
     "execution_count": 17,
     "metadata": {},
     "output_type": "execute_result"
    },
    {
     "data": {
      "image/png": "[encoded data removed]",
      "text/plain": [
       "<Figure size 720x720 with 1 Axes>"
      ]
     },
     "metadata": {
      "needs_background": "light"
     },
     "output_type": "display_data"
    }
   ],
   "source": [
    "plt.figure(figsize=(10, 10))\n",
    "plt.scatter(pca_z[:, 0], pca_z[:, 1], color=feature_ae['color'])\n",
    "plt.title('PCA')\n",
    "plt.xlabel('The first principal component score')\n",
    "plt.ylabel('The second principal component score')"
   ]
  },
  {
   "cell_type": "code",
   "execution_count": 18,
   "metadata": {},
   "outputs": [],
   "source": [
    "kmeans = KMeans(n_clusters=2).fit(z)"
   ]
  },
  {
   "cell_type": "code",
   "execution_count": 19,
   "metadata": {},
   "outputs": [
    {
     "data": {
      "text/plain": [
       "array([1, 0, 0, 0, 0, 1, 1, 1, 1, 0, 1, 1, 0, 1, 0, 0, 1, 1, 1, 1, 0, 1,\n",
       "       0, 0, 0, 0, 1, 1, 1, 1, 0, 0, 0, 1, 0, 0, 0, 0, 1, 0, 0, 0, 1, 1,\n",
       "       1, 1, 1, 1, 1, 1, 1, 1, 1, 0, 1, 0, 0, 0, 1, 0, 1, 1, 1, 1, 0, 0,\n",
       "       1, 0, 1, 1, 0, 0, 0, 0, 0, 0, 0, 0, 0, 0, 0, 0, 0, 1, 0, 0, 1, 1,\n",
       "       1, 1, 0, 0, 1, 1, 1, 1, 0, 0, 1, 1, 1, 1, 0, 0, 1, 1, 0, 0, 0, 0,\n",
       "       1, 1, 1, 0, 1, 1, 1, 1, 0, 0, 1, 1, 0, 1, 0, 0, 0, 0, 0, 0, 0, 0,\n",
       "       0, 1, 0, 1, 1, 0, 0, 0, 0, 0, 0, 1, 1, 1, 0, 0, 0, 0, 0, 0, 0])"
      ]
     },
     "execution_count": 19,
     "metadata": {},
     "output_type": "execute_result"
    }
   ],
   "source": [
    "pred = kmeans.labels_\n",
    "pred"
   ]
  },
  {
   "cell_type": "code",
   "execution_count": 20,
   "metadata": {},
   "outputs": [
    {
     "data": {
      "text/plain": [
       "[{'a': 42, 'h': 41}, {'a': 39, 'h': 31}]"
      ]
     },
     "execution_count": 20,
     "metadata": {},
     "output_type": "execute_result"
    }
   ],
   "source": [
    "#Acc: 47+40/153 = 0.568\n",
    "#Acc: 54+35/153 = 0.582 -> 64\n",
    "#Acc: 58+39/153 = 0.633 -> ReLu入れた\n",
    "\n",
    "#Acc: 88/153 = 57.5\n",
    "#Acc: 95/153 = 62.1\n",
    "#Acc: 69/153 = 45.1\n",
    "count = [{'a': 0, 'h': 0} for _ in range(2)]\n",
    "for i, label in enumerate(pred):\n",
    "    count[label][feature_ae['type'][i]] += 1\n",
    "count"
   ]
  },
  {
   "cell_type": "code",
   "execution_count": null,
   "metadata": {},
   "outputs": [],
   "source": []
  },
  {
   "cell_type": "code",
   "execution_count": null,
   "metadata": {},
   "outputs": [],
   "source": []
  }
 ],
 "metadata": {
  "kernelspec": {
   "display_name": "Python 3",
   "language": "python",
   "name": "python3"
  },
  "language_info": {
   "codemirror_mode": {
    "name": "ipython",
    "version": 3
   },
   "file_extension": ".py",
   "mimetype": "text/x-python",
   "name": "python",
   "nbconvert_exporter": "python",
   "pygments_lexer": "ipython3",
   "version": "3.6.7"
  }
 },
 "nbformat": 4,
 "nbformat_minor": 4
}
